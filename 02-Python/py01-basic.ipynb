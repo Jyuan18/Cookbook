{
 "cells": [
  {
   "cell_type": "markdown",
   "metadata": {},
   "source": [
    "**Table of contents**<a id='toc0_'></a>    \n",
    "- [前言](#toc1_1_)    \n",
    "  - [基础语法](#toc1_2_)    \n",
    "      - [1-行结构](#toc1_2_1_1_)    \n",
    "      - [2-缩进](#toc1_2_1_2_)    \n",
    "      - [3-注释](#toc1_2_1_3_)    \n",
    "      - [4-拼接](#toc1_2_1_4_)    \n",
    "      - [5-变量](#toc1_2_1_5_)    \n",
    "      - [6-常量](#toc1_2_1_6_)    \n",
    "      - [7-输出](#toc1_2_1_7_)    \n",
    "      - [8-输入](#toc1_2_1_8_)    \n",
    "  - [标准数据类型](#toc1_3_)    \n",
    "  - [序列的索引和切片](#toc1_4_)    \n",
    "  - [赋值、浅拷贝&深拷贝](#toc1_5_)    \n",
    "\n",
    "<!-- vscode-jupyter-toc-config\n",
    "\tnumbering=false\n",
    "\tanchor=true\n",
    "\tflat=false\n",
    "\tminLevel=1\n",
    "\tmaxLevel=6\n",
    "\t/vscode-jupyter-toc-config -->\n",
    "<!-- THIS CELL WILL BE REPLACED ON TOC UPDATE. DO NOT WRITE YOUR TEXT IN THIS CELL -->"
   ]
  },
  {
   "cell_type": "markdown",
   "metadata": {},
   "source": [
    "## <a id='toc1_1_'></a>[前言](#toc0_)"
   ]
  },
  {
   "cell_type": "markdown",
   "metadata": {},
   "source": [
    "- 机器语言、汇编语言、高级语言\n",
    "- 编译型语言&解释型语言\n",
    "- python、Guido van Rossum、龟叔\n",
    "- 环境：anaconda、IDE（集成开发环境）-VsCode、PyCharm、Jupyter\n",
    "- Zen of Python"
   ]
  },
  {
   "cell_type": "code",
   "execution_count": 1,
   "metadata": {},
   "outputs": [
    {
     "name": "stdout",
     "output_type": "stream",
     "text": [
      "The Zen of Python, by Tim Peters\n",
      "\n",
      "Beautiful is better than ugly.\n",
      "Explicit is better than implicit.\n",
      "Simple is better than complex.\n",
      "Complex is better than complicated.\n",
      "Flat is better than nested.\n",
      "Sparse is better than dense.\n",
      "Readability counts.\n",
      "Special cases aren't special enough to break the rules.\n",
      "Although practicality beats purity.\n",
      "Errors should never pass silently.\n",
      "Unless explicitly silenced.\n",
      "In the face of ambiguity, refuse the temptation to guess.\n",
      "There should be one-- and preferably only one --obvious way to do it.\n",
      "Although that way may not be obvious at first unless you're Dutch.\n",
      "Now is better than never.\n",
      "Although never is often better than *right* now.\n",
      "If the implementation is hard to explain, it's a bad idea.\n",
      "If the implementation is easy to explain, it may be a good idea.\n",
      "Namespaces are one honking great idea -- let's do more of those!\n"
     ]
    }
   ],
   "source": [
    "import this"
   ]
  },
  {
   "cell_type": "markdown",
   "metadata": {},
   "source": [
    "- conda -V\n",
    "- conda list\n",
    "- conda env list\n",
    "- conda info -e\n",
    "- conda config --add channels https://xxxx\n",
    "- conda config --set show_channel_urls yes      # 是否显示channel来源\n",
    "- conda config --show channels                  # 查看当前channels配置状态\n",
    "- conda create -n env_name python=x.x\n",
    "- conda activate env_name\n",
    "- conda search package_name\n",
    "- conda install package_name=x.x\n",
    "- conda install -n env_name package_name        # 指定环境安装package\n",
    "- conda config --remove-key channels            # 恢复默认源\n",
    "- conda deactivate\n",
    "- conda remove package_name\n",
    "- conda remove -n env_name package_name\n",
    "- conda remove -n env_name --all                # 删除虚拟环境\n"
   ]
  },
  {
   "cell_type": "markdown",
   "metadata": {},
   "source": [
    "## <a id='toc1_2_'></a>[基础语法](#toc0_)"
   ]
  },
  {
   "cell_type": "markdown",
   "metadata": {},
   "source": [
    "#### <a id='toc1_2_1_1_'></a>[1-行结构](#toc0_)\n",
    "一般来说，一个语句就是一行代码，不会跨越多行\n",
    "多行可以通过分号写在一行之内，不建议\n",
    "复合语句会跨越多行，也可写在一行内\n",
    "`print(123)`\n",
    "\n",
    "`print(123);print(456)`\n",
    "```\n",
    "a = 4\n",
    "if a < 3:\n",
    "    print(True)\n",
    "else:\n",
    "    print(False)\n",
    "\n",
    "print(True) if a < 3 else print(False)\n",
    "```\n",
    "#### <a id='toc1_2_1_2_'></a>[2-缩进](#toc0_)\n",
    "同一个代码块的语句必须包含相同的缩进空格数\n",
    "#### <a id='toc1_2_1_3_'></a>[3-注释](#toc0_)\n",
    "单行注释，以#开头\n",
    "多行注释，三引号包裹，可单可双\n",
    "#### <a id='toc1_2_1_4_'></a>[4-拼接](#toc0_)\n",
    "显式的行拼接：用反斜杠实现多行语句\n",
    "隐式的行拼接：括号内包裹\n",
    "#### <a id='toc1_2_1_5_'></a>[5-变量](#toc0_)\n",
    "先定义再使用，申请内存空间存放变量值，再将变量值的内存地址绑定给变量名\n",
    "命令规范：字母、数字和下划线，数字不能开头，不能与python关键字和内置函数重名，区分大小写，驼峰命名法\n",
    "#### <a id='toc1_2_1_6_'></a>[6-常量](#toc0_)\n",
    "#### <a id='toc1_2_1_7_'></a>[7-输出](#toc0_)\n",
    "`print(*objects,sep='',end='\\n',file=sys.stdout,flush=False)`\n",
    "#### <a id='toc1_2_1_8_'></a>[8-输入](#toc0_)\n",
    "`input([prompt:Any])`"
   ]
  },
  {
   "cell_type": "code",
   "execution_count": null,
   "metadata": {},
   "outputs": [
    {
     "name": "stdout",
     "output_type": "stream",
     "text": [
      "\n",
      "Here is a list of the Python keywords.  Enter any keyword to get more help.\n",
      "\n",
      "False               class               from                or\n",
      "None                continue            global              pass\n",
      "True                def                 if                  raise\n",
      "and                 del                 import              return\n",
      "as                  elif                in                  try\n",
      "assert              else                is                  while\n",
      "async               except              lambda              with\n",
      "await               finally             nonlocal            yield\n",
      "break               for                 not                 \n",
      "\n"
     ]
    }
   ],
   "source": [
    "help(\"keywords\") # 关键字查询"
   ]
  },
  {
   "cell_type": "code",
   "execution_count": 5,
   "metadata": {},
   "outputs": [
    {
     "name": "stdout",
     "output_type": "stream",
     "text": [
      "['False', 'None', 'True', 'and', 'as', 'assert', 'async', 'await', 'break', 'class', 'continue', 'def', 'del', 'elif', 'else', 'except', 'finally', 'for', 'from', 'global', 'if', 'import', 'in', 'is', 'lambda', 'nonlocal', 'not', 'or', 'pass', 'raise', 'return', 'try', 'while', 'with', 'yield']\n"
     ]
    }
   ],
   "source": [
    "import keyword\n",
    "\n",
    "print(keyword.kwlist)"
   ]
  },
  {
   "cell_type": "code",
   "execution_count": null,
   "metadata": {},
   "outputs": [
    {
     "name": "stdout",
     "output_type": "stream",
     "text": [
      "['ArithmeticError', 'AssertionError', 'AttributeError', 'BaseException', 'BaseExceptionGroup', 'BlockingIOError', 'BrokenPipeError', 'BufferError', 'BytesWarning', 'ChildProcessError', 'ConnectionAbortedError', 'ConnectionError', 'ConnectionRefusedError', 'ConnectionResetError', 'DeprecationWarning', 'EOFError', 'Ellipsis', 'EncodingWarning', 'EnvironmentError', 'Exception', 'ExceptionGroup', 'False', 'FileExistsError', 'FileNotFoundError', 'FloatingPointError', 'FutureWarning', 'GeneratorExit', 'IOError', 'ImportError', 'ImportWarning', 'IndentationError', 'IndexError', 'InterruptedError', 'IsADirectoryError', 'KeyError', 'KeyboardInterrupt', 'LookupError', 'MemoryError', 'ModuleNotFoundError', 'NameError', 'None', 'NotADirectoryError', 'NotImplemented', 'NotImplementedError', 'OSError', 'OverflowError', 'PendingDeprecationWarning', 'PermissionError', 'ProcessLookupError', 'RecursionError', 'ReferenceError', 'ResourceWarning', 'RuntimeError', 'RuntimeWarning', 'StopAsyncIteration', 'StopIteration', 'SyntaxError', 'SyntaxWarning', 'SystemError', 'SystemExit', 'TabError', 'TimeoutError', 'True', 'TypeError', 'UnboundLocalError', 'UnicodeDecodeError', 'UnicodeEncodeError', 'UnicodeError', 'UnicodeTranslateError', 'UnicodeWarning', 'UserWarning', 'ValueError', 'Warning', 'ZeroDivisionError', '__IPYTHON__', '__build_class__', '__debug__', '__doc__', '__import__', '__loader__', '__name__', '__package__', '__spec__', 'abs', 'aiter', 'all', 'anext', 'any', 'ascii', 'bin', 'bool', 'breakpoint', 'bytearray', 'bytes', 'callable', 'chr', 'classmethod', 'compile', 'complex', 'copyright', 'credits', 'delattr', 'dict', 'dir', 'display', 'divmod', 'enumerate', 'eval', 'exec', 'execfile', 'filter', 'float', 'format', 'frozenset', 'get_ipython', 'getattr', 'globals', 'hasattr', 'hash', 'help', 'hex', 'id', 'input', 'int', 'isinstance', 'issubclass', 'iter', 'len', 'license', 'list', 'locals', 'map', 'max', 'memoryview', 'min', 'next', 'object', 'oct', 'open', 'ord', 'pow', 'print', 'property', 'range', 'repr', 'reversed', 'round', 'runfile', 'set', 'setattr', 'slice', 'sorted', 'staticmethod', 'str', 'sum', 'super', 'tuple', 'type', 'vars', 'zip']\n",
      "<module 'builtins' (built-in)>\n"
     ]
    }
   ],
   "source": [
    "import builtins\n",
    "\n",
    "print(dir(builtins))  # 内置函数\n",
    "print(builtins)"
   ]
  },
  {
   "cell_type": "code",
   "execution_count": 9,
   "metadata": {},
   "outputs": [
    {
     "name": "stdout",
     "output_type": "stream",
     "text": [
      "Hello Python\n",
      "1-2-3-4-5\n",
      "\n",
      ".........."
     ]
    }
   ],
   "source": [
    "import time\n",
    "print(\"Hello Python\")\n",
    "with open('./lib/abc.txt', 'w') as f:\n",
    "    print(12345, file=f)\n",
    "\n",
    "print(1, 2, 3, 4, 5, sep='-', end='\\n\\n')\n",
    "for i in range(10):\n",
    "    print(\".\", end='', flush=True)\n",
    "    time.sleep(0.3)"
   ]
  },
  {
   "cell_type": "code",
   "execution_count": null,
   "metadata": {},
   "outputs": [
    {
     "name": "stdout",
     "output_type": "stream",
     "text": [
      "小明 你好，很高兴认识你！\n"
     ]
    }
   ],
   "source": [
    "name = input(\"请输入你的姓名：\")\n",
    "print(name, \"你好，很高兴认识你！\")"
   ]
  },
  {
   "cell_type": "markdown",
   "metadata": {},
   "source": [
    "## <a id='toc1_3_'></a>[标准数据类型](#toc0_)"
   ]
  },
  {
   "cell_type": "markdown",
   "metadata": {},
   "source": [
    "- 数字Number\n",
    "  - 不可变，不是序列\n",
    "  - int、float、bool、complex\n",
    "  - 整数，理论上可以无限大或无限小，但是受内存限制\n",
    "  - 浮点数，1.23，3.14e-10（ax10^b表示为aEb或aeb）\n",
    "  - 布尔型，值为1和0，可以和数字相加\n",
    "  - 复数，实部+虚部a=2+2j\n",
    "  - type(object)，返回object类型\n",
    "  - int([x], base=10)\n",
    "- 字符串String\n",
    "  - string不可变，是序列\n",
    "  - 单行字符串，多行字符串\n",
    "  - 转义输出引号，引号包裹\n",
    "  - 反斜杠转义字符\\\n",
    "  - raw字符串不转义r'https://xxx'\n",
    "  - f-string格式化字符串\n",
    "- 列表List\n",
    "  - 可变，是序列，可以通过索引和切片的方式来对列表元素进行修改\n",
    "  - list([iterable])\n",
    "- 元组Tuple\n",
    "  - 序列，不可变\n",
    "  - 圆括号，加逗号分隔，不加括号也认为是元组\n",
    "- 字典Dict\n",
    "  - 键值对冒号分隔，逗号分隔，花括号，可变，序列\n",
    "  - 键必须是不可变类型，重复后者值替代前者\n",
    "  - 值的类型没有严格限制，可以重复\n",
    "- 集合Set\n",
    "  - 可变，不是序列\n",
    "  - 无序\n",
    "  - 不重复\n",
    "  - 只能包含不可变的数据类型\n",
    "  - {}或set()"
   ]
  },
  {
   "cell_type": "code",
   "execution_count": 11,
   "metadata": {},
   "outputs": [
    {
     "name": "stdout",
     "output_type": "stream",
     "text": [
      "(2+3j)\n"
     ]
    }
   ],
   "source": [
    "a = 2 + 3j\n",
    "print(a)"
   ]
  },
  {
   "cell_type": "code",
   "execution_count": null,
   "metadata": {},
   "outputs": [
    {
     "name": "stdout",
     "output_type": "stream",
     "text": [
      "0\n",
      "3\n",
      "12\n",
      "42\n",
      "9\n",
      "23\n"
     ]
    }
   ],
   "source": [
    "# int([x], base=10) 把x转换成整数并返回，未指定则返回0\n",
    "print(int())  # 不传参时返回0\n",
    "print(int(3.99))    # 浮点转整数，直接舍弃小数点后的数\n",
    "print(int('12'))    # string -> int\n",
    "# print(int('12.1'))    # 会报错\n",
    "print(int(\"101010\", base=2))    # 二进制转成十进制\n",
    "print(int('11', base=8))\n",
    "print(int('17', base=16))"
   ]
  },
  {
   "cell_type": "code",
   "execution_count": 14,
   "metadata": {},
   "outputs": [
    {
     "name": "stdout",
     "output_type": "stream",
     "text": [
      "0.0\n",
      "123.0\n",
      "123.0\n",
      "1.23\n"
     ]
    }
   ],
   "source": [
    "# float([x])  将x转换成浮点数并返回，未指定则返回0.0\n",
    "print(float())\n",
    "print(float('123'))\n",
    "print(float(123))\n",
    "print(float('1.23'))"
   ]
  },
  {
   "cell_type": "code",
   "execution_count": 15,
   "metadata": {},
   "outputs": [
    {
     "name": "stdout",
     "output_type": "stream",
     "text": [
      "False\n",
      "False\n",
      "False\n",
      "False\n",
      "False\n",
      "False\n",
      "True\n",
      "True\n"
     ]
    }
   ],
   "source": [
    "# bool([x])  将给定参数转换为布尔类型，未指定返回False\n",
    "# 不管x是什么类型，只要不为空，None，0，False则返回True\n",
    "# 空 -> [], (), {}\n",
    "print(bool())\n",
    "print(bool(0))\n",
    "print(bool(None))\n",
    "print(bool([]))\n",
    "print(bool({}))\n",
    "print(bool(()))\n",
    "print(bool(1))\n",
    "print(bool('0'))"
   ]
  },
  {
   "cell_type": "code",
   "execution_count": null,
   "metadata": {},
   "outputs": [
    {
     "name": "stdout",
     "output_type": "stream",
     "text": [
      "0j\n",
      "(3.2+1j)\n",
      "(3.2+0j)\n",
      "(3.2+0j)\n",
      "(3.2+1j)\n",
      "(3.21+0j)\n"
     ]
    }
   ],
   "source": [
    "# complex([real[,imag]])  创建一个值为real + imag*j的复数\n",
    "# 无参数返回0j，只传一个参数时imag默认为0\n",
    "# 如果第1个参数时字符串，则被解释为一个复数，不能传第2个参数\n",
    "print(complex())\n",
    "print(complex(3.2, 1))\n",
    "print(complex(3.2))\n",
    "print(complex('3.2'))\n",
    "print(complex(\"3.2+1j\"))  # +号两边不能有空格，否则报错\n",
    "# print(complex('3.2+1'))  报错"
   ]
  },
  {
   "cell_type": "code",
   "execution_count": 19,
   "metadata": {},
   "outputs": [
    {
     "name": "stdout",
     "output_type": "stream",
     "text": [
      "\n",
      "123\n"
     ]
    }
   ],
   "source": [
    "print(str(object=\"\"))\n",
    "print(str(123))"
   ]
  },
  {
   "cell_type": "code",
   "execution_count": 20,
   "metadata": {},
   "outputs": [
    {
     "name": "stdout",
     "output_type": "stream",
     "text": [
      "       1\n",
      "00000001\n",
      "1aaaaaaa\n",
      "3.14\n",
      "3.14aaaa\n"
     ]
    }
   ],
   "source": [
    "num=1\n",
    "print(f'{num:>8}')      # 总宽度为8，右对齐，默认空格填充\n",
    "print(f\"{num:0>8}\")     # 总宽度为8，右对齐，使用0填充\n",
    "print(f\"{num:a<8}\")     # 总宽度为8，左对齐，使用a填充\n",
    "\n",
    "PI=3.141592653\n",
    "print(f\"{PI:.2f}\")\n",
    "print(f\"{PI:a<8.2f}\")"
   ]
  },
  {
   "cell_type": "markdown",
   "metadata": {},
   "source": [
    "- 字符串对象方法\n",
    "  - str.replace(old, new[, count])\n",
    "  - str.strip([chars])  # 默认移除空白符（空格、换行符、制表符等）\n",
    "  - str.lstrip([chars])\n",
    "  - str.rstrip([chars])\n",
    "  - str.center(width[, fillchar])  # fillchar必须是单个字符，默认为空格符\n",
    "  - str.ljust(width[, fillchar])\n",
    "  - str.rjust(width[, fillchar])\n",
    "  - str.partition(sep)      # 返回三个元素的元组，分隔符前部分，分隔符本身，分隔符之后的部分\n",
    "  - str.rpartition(sep)     # 分隔符未找到，返回元组包括原字符串本身以及两个空字符串\n",
    "  - str.startswith(prefix[, start[, end]])   # prefix可以是字符，字符串或它们组成的元组（元组中只要一个元素满足即可）\n",
    "  - str.endswith(suffix[, start[, end]])\n",
    "  - str.isalnum()   # 字母、文字或数字\n",
    "  - str.isalpha()   # 字母、文字\n",
    "  - str.isdigit()   # 数字\n",
    "  - str.isspace()   # 空白符\n",
    "  - str.split(sep=None, maxsplit=-1)  # sep默认为所有的空白符，以字符串列表形式返回，不包括分隔符，-1最大分隔次数，分隔所有\n",
    "  - str.rsplit(sep=None, maxsplit=-1) # maxsplit从右边开始\n",
    "  - str.join(iterable) # iterable，包括string,list,tuple,dict,set等，将可迭代对象中的元素（元素必须是字符串类型）以指定的字符链接\n",
    "  - str.count(sub[,start[,end]])    # sub指定的子字符串\n",
    "  - str.find(sub[,start[,end]])     # 返回从左开始第一次找到指定子字符串时的索引，找不到就返回-1\n",
    "  - str.rfind(sub[,start[,end]])\n",
    "  - str.index(sub[,start[,end]])    # 类似str.find(),区别在于找不到会报错\n",
    "  - str.rindex(sub[,start[,end]])   # => str.rfind()\n",
    "  - str.capitalize()    # 字符串的首字母大写，其它小写\n",
    "  - str.title()         # 字符串中所有单词的首字母变大写，其他字母变小写\n",
    "  - str.upper()         # 字符串所有字符变成大写\n",
    "  - str.lower()         # 小写\n",
    "  - str.swapcase()      # 大写变小写，小写变大写\n",
    "- 列表\n",
    "  - list.append(x)    # 修改原列表，无返回值，相当于a[len(a):] = [x]\n",
    "  - list.extend(iterable)     # a[len(a):] = iterable\n",
    "  - list.insert(i, x)\n",
    "  - list.sort([key], reverse=False)   # key指定一个函数，排序之前列表每个元素先应用该函数之后再对原数据进行排序，reverse默认为False，代表升序，指定为True为降序，对原列表排序，无返回值，排序之后数据仍为原数据，不是key处理后的数据\n",
    "  - sorted(iterable,[key],reverse=False)    # 返回列表形式，sort和sorted区别，list.sort只针对列表的排序，对原数据操作，无返回值，是列表的对象方法，sorted对所有可迭代对象排序，不对原数据操作，有返回值，是内置函数\n",
    "  - list.reverse()    # 列表元素反向，无返回值\n",
    "  - reverse(seq)    # 返回一个反向迭代器\n",
    "  - list.count(x)\n",
    "  - list.index(x[,start[,end]])   # 找不到抛出ValueError异常，返回的索引是针对整个序列计算的，不是start和end之间的子序列\n",
    "  - list.pop([i])   # i删除元素的索引，修改原列表，返回该元素，没指定时删除并返回列表中最后一个元素\n",
    "  - list.remove(x)    # 移除列表中第一个匹配到的值为x的元素，修改原列表，无返回值，没有抛出ValueError异常\n",
    "  - list.copy()     # 返回列表的一个浅拷贝，==a[:]\n",
    "  - list.clear()    # 移除列表中的所有元素，变成空列表，修改原列表，无返回值\n",
    "- 元组Tuple\n",
    "  - tuple([iteralbe])   # 未指定iterable返回空元组\n",
    "  - tuple.count(x)\n",
    "  - tuple.index(x[,start[,stop]])\n",
    "- 字典Dictionary\n",
    "  - dict(name='tom', age=28)\n",
    "  - dict(['name','tom'],('age',28))\n",
    "  - dict(zip(['name','age'],['tom',28]))\n",
    "  - dict(**kwarg) / dict(mapping) / dict(iterable)\n",
    "  - zip(*iteralbes)     # 返回一个元组的迭代器，第i个元组包含来自每个可迭代对象的第i个元素，所有可迭代对象中最短的一个被耗尽时，迭代器将停止迭代，只有一个可迭代对象参数时，将返回一个单元组的迭代器，不带参数时返回空迭代器\n",
    "  - dict['key1'] = 'value'  # 修改或访问\n",
    "  - dict.keys()  # 返回由字典键组成的新视图\n",
    "  - dict.values()\n",
    "  - dict.items()\n",
    "  - dict.get(key, default=None)   # 返回指定的键key对应的值，若key不在字典中，则返回default\n",
    "  - dict.update([other])    # other可以是另一个字典对象；一个包含键值对的可迭代对象\n",
    "  - dict.pop(key[,default])   # 移除指定的键key，并返回对应的值，key若不在就返回default，key和default均没有则报错KeyError\n",
    "  - dict.popitem()  # 移除最后一个键值对，并返回它们构成的元组（键，值）\n",
    "  - dict.setdefault(key,default=None)\n",
    "  - dict.copy()\n",
    "  - dict.clear()\n",
    "- 集合Set\n",
    "  - set([iterable])\n",
    "  - frozenset([iterable])   # frozenset可作为set元素\n",
    "  - 关系测试差集、并集、交集、对称差\n",
    "  - isdisjoint(other)\n",
    "  - issubset(other)\n",
    "  - issuperset(other)\n",
    "  - union(*others)\n",
    "  - intersection(*others)\n",
    "  - difference(*others)\n",
    "  - symmetric_difference(other)\n",
    "  - copy()\n",
    "  - set.update(*others)\n",
    "  - set.intersection_update(*others)\n",
    "  - set.difference_update(*others)\n",
    "  - set.symmetric_difference_update(other)\n",
    "  - set.add(elem)\n",
    "  - set.remove(elem)\n",
    "  - set.discard(elem)\n",
    "  - set.pop()\n",
    "  - set.clear()"
   ]
  },
  {
   "cell_type": "code",
   "execution_count": null,
   "metadata": {},
   "outputs": [
    {
     "name": "stdout",
     "output_type": "stream",
     "text": [
      "[1, 2, 3]\n",
      "[1, 2, 3, 'h', 'e', 'l', 'l', 'o']\n",
      "{'name': None, 'age': None, 'gender': None}\n",
      "{'name': \"I don't know!\", 'age': \"I don't know!\", 'gender': \"I don't know!\"}\n",
      "<zip object at 0x111a50c80>\n",
      "<zip object at 0x111a50c80>\n",
      "('a', '1')\n",
      "('b', '2')\n",
      "('c', '3')\n",
      "dict_keys(['a', 'b', 'c'])\n",
      "dict_values(['1', '2', '3'])\n",
      "dict_items([('a', '1'), ('b', '2'), ('c', '3')])\n"
     ]
    }
   ],
   "source": [
    "a = \"\\\\\"\n",
    "a.join(\"hello world\")\n",
    "\n",
    "li = [1, 2]\n",
    "li.append(3)\n",
    "print(li)\n",
    "\n",
    "li[len(li):] = 'hello'\n",
    "print(li)\n",
    "\n",
    "dic1 = dict.fromkeys(('name', 'age', 'gender'))\n",
    "print(dic1)\n",
    "\n",
    "dic2 = dict.fromkeys(('name', 'age', 'gender'), \"I don't know!\")\n",
    "print(dic2)\n",
    "\n",
    "print(zip('abcdefg'))\n",
    "\n",
    "print(zip('abc', '12345'))\n",
    "dict1 = {}\n",
    "for i in zip('abc', '1234'):\n",
    "    print(i)\n",
    "    dict1[i[0]] = i[1]\n",
    "\n",
    "print(dict1.keys())\n",
    "print(dict1.values())\n",
    "print(dict1.items())\n",
    "\n"
   ]
  },
  {
   "cell_type": "markdown",
   "metadata": {},
   "source": [
    "## <a id='toc1_4_'></a>[序列的索引和切片](#toc0_)"
   ]
  },
  {
   "cell_type": "markdown",
   "metadata": {},
   "source": [
    "六个标准数据类型中是序列的有：字符串、列表、元组\n",
    "索引和切片的方式访问序列中的元素"
   ]
  },
  {
   "cell_type": "markdown",
   "metadata": {},
   "source": [
    "- 序列索引\n",
    "  - 正向从0开始，反向从-1开始\n",
    "- 序列切片\n",
    "  - [起始索引：结束索引：步长]\n",
    "  - 不包括结束索引，左闭右开\n",
    "  - 起始未定默认为0，结束索引未定默认为序列长度，前提步长为正\n",
    "  - 步长默认1，为负从后面开始切片，索引依次做减法\n",
    "- 索引会降维，切片不会降维\n",
    "- len(s)\n",
    "- del删除变量时，不是直接删除数据，而是解除变量对数据的引用"
   ]
  },
  {
   "cell_type": "markdown",
   "metadata": {},
   "source": [
    "## <a id='toc1_5_'></a>[赋值、浅拷贝&深拷贝](#toc0_)"
   ]
  },
  {
   "cell_type": "markdown",
   "metadata": {},
   "source": [
    "- 浅拷贝\n",
    "  - 只考虑最外层的数据类型\n",
    "  - 如果最外层的数据类型是可变的，则（最外层）发生拷贝\n",
    "  - 如果最外层的数据类型是不可变的，则不发生拷贝\n",
    "- 深拷贝\n",
    "  - 如果最外层的数据类型是不可变的，则不发生拷贝\n",
    "  - 如果判断的该数据本身可变或者包含的数据存在可变, 则该数据发生拷贝"
   ]
  }
 ],
 "metadata": {
  "kernelspec": {
   "display_name": "py311",
   "language": "python",
   "name": "python3"
  },
  "language_info": {
   "codemirror_mode": {
    "name": "ipython",
    "version": 3
   },
   "file_extension": ".py",
   "mimetype": "text/x-python",
   "name": "python",
   "nbconvert_exporter": "python",
   "pygments_lexer": "ipython3",
   "version": "3.11.9"
  }
 },
 "nbformat": 4,
 "nbformat_minor": 2
}
