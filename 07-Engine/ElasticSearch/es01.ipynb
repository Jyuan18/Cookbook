{
 "cells": [
  {
   "cell_type": "markdown",
   "metadata": {},
   "source": [
    "// 创建索引\n",
    "PUT /hotel\n",
    "{\n",
    "    \"mappings\":{\n",
    "        \"properties\":{\n",
    "            \"name\":{\n",
    "                \"type\":\"text\"\n",
    "            },\n",
    "            \"city\":{\n",
    "                \"type\":\"keyword\"\n",
    "            },\n",
    "            \"price\":{\n",
    "                \"type\":\"double\"\n",
    "            }\n",
    "        }\n",
    "    }\n",
    "}\n",
    "\n",
    "// 写入文档数据\n",
    "// 可以不指定文档_id，改_id值由ES自动生成\n",
    "POPST /hotel/_doc/001\n",
    "{\n",
    "    \"name\": \"希尔顿酒店\",\n",
    "    \"city\": \"shenzhen\",\n",
    "    \"price\": 99.99\n",
    "}\n",
    "\n",
    "// 根据_id搜索文档\n",
    "GET /hotel/_doc/001\n",
    "\n",
    "// 根据普通字段搜索文档\n",
    "GET /hotel/_search\n",
    "{\n",
    "    \"query\": {\n",
    "        \"term\": {\n",
    "            \"city\": {\n",
    "                \"value\": \"shenzhen\"\n",
    "            }\n",
    "        }\n",
    "    }\n",
    "}\n",
    "\n",
    "// 根据文本字段搜索文档\n",
    "GET /hotel/_search\n",
    "{\n",
    "    \"query\": {\n",
    "        \"match\": {\n",
    "            \"name\": \"friend\"\n",
    "        }\n",
    "    }\n",
    "}\n",
    "\n",
    "// 批量写入数据\n",
    "PUT /hotel/_bulk\n",
    "{\"index\":{}}\n",
    "{\"name\":\"x\", \"city\":\"x\",\"price\":99}\n",
    "\n",
    "// 根据条件删除文档\n",
    "POST /hotel/_delete_by_query\n",
    "{\n",
    "    \"query\": {\n",
    "        \"term\": {\n",
    "            \"city\": {\n",
    "                \"value\": \"三亚\"\n",
    "            }\n",
    "        }\n",
    "    }\n",
    "}\n",
    "\n",
    "// 删除索引\n",
    "DELETE hotel"
   ]
  },
  {
   "cell_type": "code",
   "execution_count": 1,
   "metadata": {},
   "outputs": [],
   "source": [
    "# 1. 连接ES\n",
    "\n",
    "from elasticsearch import Elasticsearch\n",
    "\n",
    "es = Elasticsearch(\"http://localhost:9200\")"
   ]
  },
  {
   "cell_type": "code",
   "execution_count": 2,
   "metadata": {},
   "outputs": [
    {
     "name": "stderr",
     "output_type": "stream",
     "text": [
      "/var/folders/mq/fxmjb3ss6mg8hjxwd1sy_zbc0000gn/T/ipykernel_6834/544464998.py:3: DeprecationWarning: Passing transport options in the API method is deprecated. Use 'Elasticsearch.options()' instead.\n",
      "  es.indices.create(index=\"py_index01\", ignore=400)\n"
     ]
    },
    {
     "data": {
      "text/plain": [
       "ObjectApiResponse({'acknowledged': True, 'shards_acknowledged': True, 'index': 'py_index01'})"
      ]
     },
     "execution_count": 2,
     "metadata": {},
     "output_type": "execute_result"
    }
   ],
   "source": [
    "# 2. 创建索引\n",
    "\n",
    "es.indices.create(index=\"py_index01\", ignore=400)"
   ]
  },
  {
   "cell_type": "code",
   "execution_count": 3,
   "metadata": {},
   "outputs": [
    {
     "data": {
      "text/plain": [
       "ObjectApiResponse({'_index': 'py_index01', '_id': '1', '_version': 1, 'result': 'created', '_shards': {'total': 2, 'successful': 1, 'failed': 0}, '_seq_no': 0, '_primary_term': 1})"
      ]
     },
     "execution_count": 3,
     "metadata": {},
     "output_type": "execute_result"
    }
   ],
   "source": [
    "# 3. 插入数据\n",
    "\n",
    "# 第1条数据\n",
    "\n",
    "body = {\n",
    "    \"name\": \"tommy\",\n",
    "    \"age\": 20,\n",
    "    \"city\": \"shenzhen\",\n",
    "    \"hobbies\":\"singing,dancing,reading\"\n",
    "}\n",
    "es.index(index=\"py_index01\", id=1, body=body)"
   ]
  },
  {
   "cell_type": "code",
   "execution_count": 4,
   "metadata": {},
   "outputs": [
    {
     "data": {
      "text/plain": [
       "ObjectApiResponse({'_index': 'py_index01', '_id': '2', '_version': 1, 'result': 'created', '_shards': {'total': 2, 'successful': 1, 'failed': 0}, '_seq_no': 1, '_primary_term': 1})"
      ]
     },
     "execution_count": 4,
     "metadata": {},
     "output_type": "execute_result"
    }
   ],
   "source": [
    "# 第2条数据\n",
    "\n",
    "body = {\n",
    "    \"name\": \"sally\",\n",
    "    \"age\": 21,\n",
    "    \"city\": \"shenzhen\",\n",
    "    \"hobbies\": \"jogging,watching,running\"\n",
    "}\n",
    "\n",
    "es.index(index=\"py_index01\", id=2, body=body)"
   ]
  },
  {
   "cell_type": "code",
   "execution_count": 5,
   "metadata": {},
   "outputs": [
    {
     "data": {
      "text/plain": [
       "ObjectApiResponse({'_index': 'py_index01', '_id': '3', '_version': 1, 'result': 'created', '_shards': {'total': 2, 'successful': 1, 'failed': 0}, '_seq_no': 2, '_primary_term': 1})"
      ]
     },
     "execution_count": 5,
     "metadata": {},
     "output_type": "execute_result"
    }
   ],
   "source": [
    "# 第3条数据\n",
    "\n",
    "body = {\n",
    "    \"name\" : \"john\",\n",
    "    \"age\": 22,\n",
    "    \"city\": \"beijing\",\n",
    "    \"hobbies\": \"liking,biking,jumping\"\n",
    "}\n",
    "\n",
    "es.index(index=\"py_index01\", id=3, body=body)"
   ]
  },
  {
   "cell_type": "code",
   "execution_count": 6,
   "metadata": {},
   "outputs": [
    {
     "name": "stdout",
     "output_type": "stream",
     "text": [
      "{'took': 110, 'timed_out': False, '_shards': {'total': 1, 'successful': 1, 'skipped': 0, 'failed': 0}, 'hits': {'total': {'value': 3, 'relation': 'eq'}, 'max_score': 1.0, 'hits': [{'_index': 'py_index01', '_id': '1', '_score': 1.0, '_source': {'name': 'tommy', 'age': 20, 'city': 'shenzhen', 'hobbies': 'singing,dancing,reading'}}, {'_index': 'py_index01', '_id': '2', '_score': 1.0, '_source': {'name': 'sally', 'age': 21, 'city': 'shenzhen', 'hobbies': 'jogging,watching,running'}}, {'_index': 'py_index01', '_id': '3', '_score': 1.0, '_source': {'name': 'john', 'age': 22, 'city': 'beijing', 'hobbies': 'liking,biking,jumping'}}]}}\n"
     ]
    }
   ],
   "source": [
    "# 4. match_all 查询所有\n",
    "\n",
    "query = {\n",
    "    \"query\": {\n",
    "        \"match_all\": {}\n",
    "    }\n",
    "}\n",
    "\n",
    "result = es.search(index=\"py_index01\", body=query)\n",
    "\n",
    "print(result)"
   ]
  },
  {
   "cell_type": "code",
   "execution_count": 7,
   "metadata": {},
   "outputs": [
    {
     "name": "stdout",
     "output_type": "stream",
     "text": [
      "{'took': 21, 'timed_out': False, '_shards': {'total': 1, 'successful': 1, 'skipped': 0, 'failed': 0}, 'hits': {'total': {'value': 1, 'relation': 'eq'}, 'max_score': 1.0, 'hits': [{'_index': 'py_index01', '_id': '2', '_score': 1.0, '_source': {'name': 'sally', 'age': 21, 'city': 'shenzhen', 'hobbies': 'jogging,watching,running'}}]}}\n"
     ]
    }
   ],
   "source": [
    "# 5. 根据 term 查询\n",
    "\n",
    "# term主要用于精确匹配哪些值，比如数字，日期，布尔值或 not_analyzed 的字符串(未经切词的文本数据类型)\n",
    "\n",
    "query = {\n",
    "    \"query\": {\n",
    "        \"term\": {\n",
    "            \"age\": 21\n",
    "        }\n",
    "    }\n",
    "}\n",
    "\n",
    "result = es.search(index=\"py_index01\", body=query)\n",
    "\n",
    "print(result)"
   ]
  },
  {
   "cell_type": "code",
   "execution_count": 9,
   "metadata": {},
   "outputs": [
    {
     "name": "stdout",
     "output_type": "stream",
     "text": [
      "{'took': 9, 'timed_out': False, '_shards': {'total': 1, 'successful': 1, 'skipped': 0, 'failed': 0}, 'hits': {'total': {'value': 2, 'relation': 'eq'}, 'max_score': 1.0, 'hits': [{'_index': 'py_index01', '_id': '1', '_score': 1.0, '_source': {'name': 'tommy', 'age': 20, 'city': 'shenzhen', 'hobbies': 'singing,dancing,reading'}}, {'_index': 'py_index01', '_id': '2', '_score': 1.0, '_source': {'name': 'sally', 'age': 21, 'city': 'shenzhen', 'hobbies': 'jogging,watching,running'}}]}}\n",
      "{'took': 8, 'timed_out': False, '_shards': {'total': 1, 'successful': 1, 'skipped': 0, 'failed': 0}, 'hits': {'total': {'value': 1, 'relation': 'eq'}, 'max_score': 1.0, 'hits': [{'_index': 'py_index01', '_id': '2', '_score': 1.0, '_source': {'name': 'sally', 'age': 21, 'city': 'shenzhen', 'hobbies': 'jogging,watching,running'}}]}}\n"
     ]
    }
   ],
   "source": [
    "# 6. 根据 terms 查询\n",
    "\n",
    "# terms 跟 term 有点类似，但 terms 允许指定多个匹配条件。 如果某个字段指定了多个值，那么文档需要一起去做匹配\n",
    "\n",
    "# ① 根据age\n",
    "query = {\n",
    "    \"query\": {\n",
    "        \"terms\": {\n",
    "            \"age\": [20, 21]\n",
    "        }\n",
    "    }\n",
    "}\n",
    "\n",
    "result = es.search(index=\"py_index01\", body=query)\n",
    "\n",
    "print(result)\n",
    "\n",
    "query = {\n",
    "    \"query\": {\n",
    "        \"terms\": {\n",
    "            \"age\": [21]\n",
    "        }\n",
    "    }\n",
    "}\n",
    "\n",
    "result_ = es.search(index=\"py_index01\", body=query)\n",
    "\n",
    "print(result_)"
   ]
  },
  {
   "cell_type": "code",
   "execution_count": 10,
   "metadata": {},
   "outputs": [
    {
     "name": "stdout",
     "output_type": "stream",
     "text": [
      "{'took': 63, 'timed_out': False, '_shards': {'total': 1, 'successful': 1, 'skipped': 0, 'failed': 0}, 'hits': {'total': {'value': 2, 'relation': 'eq'}, 'max_score': 1.0, 'hits': [{'_index': 'py_index01', '_id': '1', '_score': 1.0, '_source': {'name': 'tommy', 'age': 20, 'city': 'shenzhen', 'hobbies': 'singing,dancing,reading'}}, {'_index': 'py_index01', '_id': '2', '_score': 1.0, '_source': {'name': 'sally', 'age': 21, 'city': 'shenzhen', 'hobbies': 'jogging,watching,running'}}]}}\n"
     ]
    }
   ],
   "source": [
    "# ② 根据name\n",
    "query = {\n",
    "    \"query\": {\n",
    "        \"terms\": {\n",
    "            \"name\": [\"tommy\", \"sally\"]\n",
    "        }\n",
    "    }\n",
    "}\n",
    "\n",
    "result = es.search(index=\"py_index01\", body=query)\n",
    "\n",
    "print(result)"
   ]
  },
  {
   "cell_type": "code",
   "execution_count": 11,
   "metadata": {},
   "outputs": [
    {
     "name": "stdout",
     "output_type": "stream",
     "text": [
      "{'took': 7, 'timed_out': False, '_shards': {'total': 1, 'successful': 1, 'skipped': 0, 'failed': 0}, 'hits': {'total': {'value': 2, 'relation': 'eq'}, 'max_score': 1.0, 'hits': [{'_index': 'py_index01', '_id': '2', '_score': 1.0, '_source': {'name': 'sally', 'age': 21, 'city': 'shenzhen', 'hobbies': 'jogging,watching,running'}}, {'_index': 'py_index01', '_id': '3', '_score': 1.0, '_source': {'name': 'john', 'age': 22, 'city': 'beijing', 'hobbies': 'liking,biking,jumping'}}]}}\n"
     ]
    }
   ],
   "source": [
    "# 7. range\n",
    "\n",
    "# 按照指定范围查找一批数据:\n",
    "'''\n",
    "gt : 大于\n",
    "gte : 大于等于\n",
    "lt : 小于\n",
    "lte : 小于等于\n",
    "'''\n",
    "query = {\n",
    "    \"query\": {\n",
    "        \"range\": {\n",
    "            \"age\": {\n",
    "                \"gt\": 20\n",
    "            }\n",
    "        }\n",
    "    }\n",
    "}\n",
    "\n",
    "result = es.search(index=\"py_index01\", body=query)\n",
    "\n",
    "print(result)"
   ]
  },
  {
   "cell_type": "code",
   "execution_count": 12,
   "metadata": {},
   "outputs": [
    {
     "name": "stdout",
     "output_type": "stream",
     "text": [
      "{'took': 5, 'timed_out': False, '_shards': {'total': 1, 'successful': 1, 'skipped': 0, 'failed': 0}, 'hits': {'total': {'value': 3, 'relation': 'eq'}, 'max_score': 1.0, 'hits': [{'_index': 'py_index01', '_id': '1', '_score': 1.0, '_source': {'name': 'tommy', 'age': 20, 'city': 'shenzhen', 'hobbies': 'singing,dancing,reading'}}, {'_index': 'py_index01', '_id': '2', '_score': 1.0, '_source': {'name': 'sally', 'age': 21, 'city': 'shenzhen', 'hobbies': 'jogging,watching,running'}}, {'_index': 'py_index01', '_id': '3', '_score': 1.0, '_source': {'name': 'john', 'age': 22, 'city': 'beijing', 'hobbies': 'liking,biking,jumping'}}]}}\n"
     ]
    }
   ],
   "source": [
    "# 8. exists / missing\n",
    "\n",
    "# 查找文档中是否包含指定字段或没有某个字段，类似于SQL语句中的IS_NULL条件\n",
    "\n",
    "query = {\n",
    "    \"query\": {\n",
    "        \"exists\": {\n",
    "            \"field\": \"name\"\n",
    "        }\n",
    "    }\n",
    "}\n",
    "\n",
    "result = es.search(index=\"py_index01\", body=query)\n",
    "\n",
    "print(result)"
   ]
  },
  {
   "cell_type": "code",
   "execution_count": 16,
   "metadata": {},
   "outputs": [
    {
     "name": "stdout",
     "output_type": "stream",
     "text": [
      "{'took': 4, 'timed_out': False, '_shards': {'total': 1, 'successful': 1, 'skipped': 0, 'failed': 0}, 'hits': {'total': {'value': 1, 'relation': 'eq'}, 'max_score': 2.2039728, 'hits': [{'_index': 'py_index01', '_id': '2', '_score': 2.2039728, '_source': {'name': 'sally', 'age': 21, 'city': 'shenzhen', 'hobbies': 'jogging,watching,running'}}]}}\n"
     ]
    }
   ],
   "source": [
    "# 9. bool过滤\n",
    "\n",
    "# 合并多个过滤条件查询结果的布尔逻辑\n",
    "'''\n",
    "must :: 多个查询条件的完全匹配,相当于 and。\n",
    "must_not :: 多个查询条件的相反匹配，相当于 not。\n",
    "should :: 至少有一个查询条件匹配, 相当于 or。\n",
    "'''\n",
    "query = {\n",
    "    \"query\": {\n",
    "        \"bool\": {\n",
    "            \"must\": [\n",
    "                {\"term\": {\"name\": \"sally\"}},\n",
    "                {\"term\": {\"age\": 21}}\n",
    "\n",
    "            ]\n",
    "        }\n",
    "    }\n",
    "}\n",
    "# query = {\n",
    "    # \"query\": {\n",
    "        # \"bool\": {\n",
    "            # \"must\": [\n",
    "                # {\"term\": {\"name\": \"sally\"}},\n",
    "                # {\"term\": {\"age\": 21}}\n",
    "            # ]\n",
    "        # }\n",
    "    # }\n",
    "# }\n",
    "\n",
    "result = es.search(index=\"py_index01\", body=query)\n",
    "\n",
    "print(result)"
   ]
  },
  {
   "cell_type": "code",
   "execution_count": 17,
   "metadata": {},
   "outputs": [
    {
     "name": "stdout",
     "output_type": "stream",
     "text": [
      "{'took': 4, 'timed_out': False, '_shards': {'total': 1, 'successful': 1, 'skipped': 0, 'failed': 0}, 'hits': {'total': {'value': 1, 'relation': 'eq'}, 'max_score': 1.0, 'hits': [{'_index': 'py_index01', '_id': 'HXeZEJMB56iyadvTS7CW', '_score': 1.0, '_source': {'name': 'xiaoming', 'age': 21, 'hobbies': 'jumpping', 'city': 'bejing'}}]}}\n"
     ]
    }
   ],
   "source": [
    "# 案例2\n",
    "'''\n",
    "条件1：name != sally\n",
    "条件2：字段age必须存在\n",
    "条件3：age = 21\n",
    "'''\n",
    "query = {\n",
    "    \"query\": {\n",
    "        \"bool\": {\n",
    "            \"must_not\": {\n",
    "                \"term\": {\n",
    "                    \"name\": \"sally\"\n",
    "                }\n",
    "            },\n",
    "            \"must\": {\n",
    "                \"exists\": {\n",
    "                    \"field\": \"age\"\n",
    "                }\n",
    "            },\n",
    "            \"must\": {\n",
    "                \"term\": {\n",
    "                    \"age\": 21\n",
    "                }\n",
    "            }\n",
    "        }\n",
    "    }\n",
    "}\n",
    "\n",
    "res = es.search(index=\"py_index01\", body=query)\n",
    "\n",
    "print(res)"
   ]
  },
  {
   "cell_type": "code",
   "execution_count": 19,
   "metadata": {},
   "outputs": [
    {
     "name": "stdout",
     "output_type": "stream",
     "text": [
      "{'took': 17, 'timed_out': False, '_shards': {'total': 1, 'successful': 1, 'skipped': 0, 'failed': 0}, 'hits': {'total': {'value': 1, 'relation': 'eq'}, 'max_score': 2.112916, 'hits': [{'_index': 'py_index01', '_id': '1', '_score': 2.112916, '_source': {'name': 'tommy', 'age': 20, 'city': 'shenzhen', 'hobbies': 'singing,dancing,reading'}}]}}\n"
     ]
    }
   ],
   "source": [
    "# 10. bool 查询\n",
    "\n",
    "'''\n",
    "① 与 bool 过滤相似，用于合并多个查询子句。\n",
    "② 不同的是，bool 过滤可以直接给出是否匹配成功， 而bool查询要计算每一个查询子句的 _score （相关性分值）\n",
    "'''\n",
    "# query = {\n",
    "#     \"query\": {\n",
    "#         \"bool\": {\n",
    "#             \"must\": {\n",
    "#                 \"match\": {\n",
    "#                     \"hobbies\": \"reading\"\n",
    "#                 }\n",
    "#             },\n",
    "#             \"must\": {\n",
    "#                 \"exists\": {\n",
    "#                     \"field\": \"hobbies\"\n",
    "#                 }\n",
    "#             }\n",
    "#         }\n",
    "#     }\n",
    "# }\n",
    "\n",
    "query = {\n",
    "    \"query\": {\n",
    "        \"bool\": {\n",
    "            \"must\": [\n",
    "                {\n",
    "                    \"match\": {\n",
    "                        \"hobbies\": \"reading\"\n",
    "                    }\n",
    "                },\n",
    "                {\n",
    "                    \"exists\": {\n",
    "                        \"field\": \"hobbies\"\n",
    "                    }\n",
    "                }\n",
    "            ]\n",
    "        }\n",
    "    }\n",
    "}\n",
    "\n",
    "result = es.search(index=\"py_index01\", body=query)\n",
    "\n",
    "print(result)"
   ]
  },
  {
   "cell_type": "code",
   "execution_count": 20,
   "metadata": {},
   "outputs": [
    {
     "name": "stdout",
     "output_type": "stream",
     "text": [
      "{'took': 16, 'timed_out': False, '_shards': {'total': 1, 'successful': 1, 'skipped': 0, 'failed': 0}, 'hits': {'total': {'value': 1, 'relation': 'eq'}, 'max_score': 1.1129161, 'hits': [{'_index': 'py_index01', '_id': '3', '_score': 1.1129161, '_source': {'name': 'john', 'age': 22, 'city': 'beijing', 'hobbies': 'liking,biking,jumping'}}]}}\n"
     ]
    }
   ],
   "source": [
    "\n",
    "# 11. multi_match\n",
    "\n",
    "# match查询的基础上同时搜索多个字段，在多个字段中同时查一个\n",
    "query = {\n",
    "    \"query\": {\n",
    "        \"multi_match\": {\n",
    "            \"query\": \"jumping\",\n",
    "            \"fields\": [\"name\", 'hobbies']\n",
    "        }\n",
    "    }\n",
    "}\n",
    "result = es.search(index=\"py_index01\", body=query)\n",
    "print(result)"
   ]
  },
  {
   "cell_type": "code",
   "execution_count": 21,
   "metadata": {},
   "outputs": [
    {
     "name": "stdout",
     "output_type": "stream",
     "text": [
      "{'took': 34, 'timed_out': False, '_shards': {'total': 1, 'successful': 1, 'skipped': 0, 'failed': 0}, 'hits': {'total': {'value': 1, 'relation': 'eq'}, 'max_score': 1.0, 'hits': [{'_index': 'py_index01', '_id': '1', '_score': 1.0, '_source': {'name': 'tommy', 'age': 20, 'city': 'shenzhen', 'hobbies': 'singing,dancing,reading'}}]}}\n"
     ]
    }
   ],
   "source": [
    "# 12. wildcard查询\n",
    "\n",
    "# 使用标准的shell通配符查询\n",
    "query = {\n",
    "    \"query\": {\n",
    "        \"wildcard\": {\n",
    "            \"name\": \"to*\"\n",
    "        }\n",
    "    }\n",
    "}\n",
    "\n",
    "result = es.search(index=\"py_index01\", body=query)\n",
    "\n",
    "print(result)"
   ]
  },
  {
   "cell_type": "code",
   "execution_count": 22,
   "metadata": {},
   "outputs": [
    {
     "name": "stdout",
     "output_type": "stream",
     "text": [
      "{'took': 5, 'timed_out': False, '_shards': {'total': 1, 'successful': 1, 'skipped': 0, 'failed': 0}, 'hits': {'total': {'value': 2, 'relation': 'eq'}, 'max_score': 1.0, 'hits': [{'_index': 'py_index01', '_id': '1', '_score': 1.0, '_source': {'name': 'tommy', 'age': 20, 'city': 'shenzhen', 'hobbies': 'singing,dancing,reading'}}, {'_index': 'py_index01', '_id': '2', '_score': 1.0, '_source': {'name': 'sally', 'age': 21, 'city': 'shenzhen', 'hobbies': 'jogging,watching,running'}}]}}\n"
     ]
    }
   ],
   "source": [
    "# 13. regexp 查询\n",
    "\n",
    "query = {\n",
    "    \"query\": {\n",
    "        \"regexp\": {\n",
    "            \"city\": \".he.*\"\n",
    "        }\n",
    "    }\n",
    "}\n",
    "\n",
    "result = es.search(index=\"py_index01\", body=query)\n",
    "\n",
    "print(result)"
   ]
  },
  {
   "cell_type": "code",
   "execution_count": 23,
   "metadata": {},
   "outputs": [
    {
     "name": "stdout",
     "output_type": "stream",
     "text": [
      "{'took': 4, 'timed_out': False, '_shards': {'total': 1, 'successful': 1, 'skipped': 0, 'failed': 0}, 'hits': {'total': {'value': 1, 'relation': 'eq'}, 'max_score': 1.0, 'hits': [{'_index': 'py_index01', '_id': '3', '_score': 1.0, '_source': {'name': 'john', 'age': 22, 'city': 'beijing', 'hobbies': 'liking,biking,jumping'}}]}}\n"
     ]
    }
   ],
   "source": [
    "# 14. prefix 查询\n",
    "\n",
    "# 以什么字符开头\n",
    "\n",
    "query = {\n",
    "    \"query\": {\n",
    "        \"prefix\": {\n",
    "            \"city\": \"bei\"\n",
    "        }\n",
    "    }\n",
    "}\n",
    "\n",
    "result = es.search(index=\"py_index01\", body=query)\n",
    "\n",
    "print(result)"
   ]
  },
  {
   "cell_type": "code",
   "execution_count": 24,
   "metadata": {},
   "outputs": [
    {
     "name": "stdout",
     "output_type": "stream",
     "text": [
      "{'took': 4, 'timed_out': False, '_shards': {'total': 1, 'successful': 1, 'skipped': 0, 'failed': 0}, 'hits': {'total': {'value': 1, 'relation': 'eq'}, 'max_score': 1.1129161, 'hits': [{'_index': 'py_index01', '_id': '1', '_score': 1.1129161, '_source': {'name': 'tommy', 'age': 20, 'city': 'shenzhen', 'hobbies': 'singing,dancing,reading'}}]}}\n"
     ]
    }
   ],
   "source": [
    "# 15. phrase match 短语匹配\n",
    "\n",
    "# 寻找临近的几个单词\n",
    "query = {\n",
    "    \"query\": {\n",
    "        \"match_phrase\": {\n",
    "            \"hobbies\": \"dancing\"\n",
    "        }\n",
    "    }\n",
    "}\n",
    "\n",
    "result = es.search(index=\"py_index01\", body=query)\n",
    "\n",
    "print(result)"
   ]
  },
  {
   "cell_type": "code",
   "execution_count": 25,
   "metadata": {},
   "outputs": [
    {
     "data": {
      "text/plain": [
       "ObjectApiResponse({'_index': 'py_index01', '_id': '1', '_version': 2, 'result': 'deleted', '_shards': {'total': 2, 'successful': 1, 'failed': 0}, '_seq_no': 4, '_primary_term': 1})"
      ]
     },
     "execution_count": 25,
     "metadata": {},
     "output_type": "execute_result"
    }
   ],
   "source": [
    "# 16. 根据id删除数据\n",
    "\n",
    "es.delete(index=\"py_index01\", id=1)"
   ]
  },
  {
   "cell_type": "code",
   "execution_count": 26,
   "metadata": {},
   "outputs": [
    {
     "name": "stdout",
     "output_type": "stream",
     "text": [
      "{'took': 40, 'timed_out': False, 'total': 1, 'deleted': 1, 'batches': 1, 'version_conflicts': 0, 'noops': 0, 'retries': {'bulk': 0, 'search': 0}, 'throttled_millis': 0, 'requests_per_second': -1.0, 'throttled_until_millis': 0, 'failures': []}\n"
     ]
    }
   ],
   "source": [
    "# 17. delete_by_query \n",
    "\n",
    "# 删除满足条件的所有数据，查询条件必须符合DLS格式\n",
    "\n",
    "query = {\n",
    "    \"query\": {\n",
    "        \"match\": {\n",
    "            \"name\": \"sally\"\n",
    "        }\n",
    "    }\n",
    "}\n",
    "\n",
    "result =es.delete_by_query(index=\"py_index01\", body=query)\n",
    "\n",
    "print(result)"
   ]
  },
  {
   "cell_type": "code",
   "execution_count": 27,
   "metadata": {},
   "outputs": [
    {
     "data": {
      "text/plain": [
       "ObjectApiResponse({'acknowledged': True})"
      ]
     },
     "execution_count": 27,
     "metadata": {},
     "output_type": "execute_result"
    }
   ],
   "source": [
    "# 18. 删除索引\n",
    "\n",
    "es.indices.delete(index=\"py_index01\")"
   ]
  },
  {
   "cell_type": "code",
   "execution_count": 28,
   "metadata": {},
   "outputs": [
    {
     "data": {
      "text/plain": [
       "HeadApiResponse(False)"
      ]
     },
     "execution_count": 28,
     "metadata": {},
     "output_type": "execute_result"
    }
   ],
   "source": [
    "# 19. 检查索引是否存在\n",
    "\n",
    "es.indices.exists(index=\"py_index01\")"
   ]
  },
  {
   "cell_type": "markdown",
   "metadata": {},
   "source": [
    "1. 全文查询（Full-text queries）\n",
    "- match：进行全文搜索，适合分词字段。\n",
    "- match_phrase：进行短语匹配，确保短语中的单词按顺序相邻出现。\n",
    "- multi_match：在多个字段上执行 match 查询。\n",
    "- common_terms：处理常用词的查询，提高长文本查询的效率。\n",
    "- query_string：基于 Lucene 查询语法的高级查询，支持复杂的布尔查询和通配符。\n",
    "- simple_query_string：类似于 query_string，但语法简化，更适合用户输入。\n",
    "2. 精确值查询（Term-level queries）\n",
    "- term：精确匹配，不分词，适用于 keyword 类型。\n",
    "- terms：多个精确值匹配，相当于 OR 逻辑，适合 keyword。\n",
    "- range：范围查询，用于数值和日期等连续数据。\n",
    "- exists：检查字段是否存在。\n",
    "- prefix：匹配字段的前缀内容。\n",
    "- wildcard：通配符查询，适合小规模数据，性能较低。\n",
    "- regexp：正则表达式查询，适合复杂模式匹配。\n",
    "3. 复合查询（Compound queries）\n",
    "- bool：组合多个查询条件，支持 must、should、must_not、filter 等子句。\n",
    "- constant_score：忽略评分，返回符合条件的文档。\n",
    "- dis_max：在多个查询中返回得分最高的文档。\n",
    "- function_score：在查询基础上调整文档评分，用于个性化排序。\n",
    "4. JOIN 查询（Joining queries）\n",
    "- nested：查询嵌套类型字段。\n",
    "- has_child 和 has_parent：用于父子关系查询。\n",
    "- parent_id：查询具有特定父 ID 的文档。\n",
    "5. 地理位置查询（Geo queries）\n",
    "- geo_shape：查询特定地理形状的区域。\n",
    "- geo_bounding_box：在矩形边界框内查询。\n",
    "- geo_distance：查询某个点一定距离范围内的文档。\n",
    "- geo_polygon：查询在指定多边形内的文档。\n",
    "6. 特定用途查询（Specialized queries）\n",
    "- script：基于自定义脚本的查询，用于复杂计算。\n",
    "- percolate：对文档进行查询而不是反向，通常用于事先注册的查询。\n",
    "- highlight：在查询结果中高亮显示匹配的字段。\n",
    "- more_like_this：根据示例文档查找相似文档。\n",
    "- distance_feature：基于距离特征调整得分，用于时间和地理位置的排序。\n",
    "7. 聚合查询（Aggregations）\n",
    "虽然不属于直接的查询类型，但在统计分析中广泛使用。常见聚合类型包括 terms、histogram、date_histogram、avg、sum、min、max、cardinality 等。"
   ]
  }
 ],
 "metadata": {
  "kernelspec": {
   "display_name": "py311",
   "language": "python",
   "name": "python3"
  },
  "language_info": {
   "codemirror_mode": {
    "name": "ipython",
    "version": 3
   },
   "file_extension": ".py",
   "mimetype": "text/x-python",
   "name": "python",
   "nbconvert_exporter": "python",
   "pygments_lexer": "ipython3",
   "version": "3.11.9"
  }
 },
 "nbformat": 4,
 "nbformat_minor": 2
}
